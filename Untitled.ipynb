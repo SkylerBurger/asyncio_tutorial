{
 "cells": [
  {
   "cell_type": "markdown",
   "metadata": {},
   "source": [
    "# Async IO in Python - [Real Python](https://realpython.com/async-io-python/)\n",
    "\n",
    "## What's the Deal?\n",
    "\n",
    "- **Concurrency**: broadly, the ability for multiple tasks to run in an overlapping manner\n",
    "- **Parallelism**: a subset of concurrency characterized by performing *multiple operations at the same time*\n",
    "- **Multiprocessing**: a form of parallelism achieved by spreading tasks across a processor's cores; good for tasks that are *CPU-bound*\n",
    "- **Threading**: a form of concurrency in which multiple threads take turns executing their tasks; good for tasks that are *IO-bound*\n",
    "- **Asynchronous IO**: a form of concurrency that utilizes tasks (aka routines) that are able to pause and allow other tasks to process while awaiting the result of other tasks \n",
    "- **CPU-bound**: tasks that are reliant on the processor working hard from start to finish\n",
    "- **`asyncio`**: a module added to the Python Standard Library in version 3.4 for implementing asynchronous coroutines in your code\n",
    "- **IO-bound**: tasks that are reliant on waiting for other input/output tasks to complete\n",
    "\n",
    "How does asynchronous IO fit into this again? It is not multiprocessing or threading, it is **cooperative multitasking**; a separate model of concurrency that utilizes a single thread and a single process.\n",
    "\n",
    "Further reading: [Speed Up Your Python Program with Concurrency - Real Python](https://realpython.com/python-concurrency/)\n",
    "\n",
    "## Unleashing Asynchronous IO in Python\n",
    "- **Coroutine**: a specialized version of a Python generator function that can suspend its execution before reaching return, and indirectly pass control to another coroutine for a time\n",
    "\n",
    "### Asynchronous Coroutines Versus Synchronous Function Calls\n",
    "*Check the repo for demo code of `async_vs_sync_count.py`*"
   ]
  },
  {
   "cell_type": "code",
   "execution_count": 4,
   "metadata": {},
   "outputs": [
    {
     "data": {
      "text/plain": [
       "'/home/skybur/py/asyncio_tutorial'"
      ]
     },
     "execution_count": 4,
     "metadata": {},
     "output_type": "execute_result"
    }
   ],
   "source": [
    "# import os\n",
    "# os.getcwd()\n",
    "# import sys\n",
    "# sys.path.append('../src/')\n",
    "# from async_vs_sync import async_vs_sync_count\n",
    "\n",
    "# Output from async_vs_sync_count.py\n",
    "\n",
    "# Asynchronous coroutines:\n",
    "# ASYNC - One\n",
    "# ASYNC - One\n",
    "# ASYNC - One\n",
    "# ASYNC - Two\n",
    "# ASYNC - Two\n",
    "# ASYNC - Two\n",
    "# Asynchronous coroutines executed in 1.01 seconds.\n",
    "\n",
    "# Synchronous function calls:\n",
    "# SYNC - One\n",
    "# SYNC - Two\n",
    "# SYNC - One\n",
    "# SYNC - Two\n",
    "# SYNC - One\n",
    "# SYNC - Two\n",
    "# Synchronous function calls executed in 3.00 seconds."
   ]
  },
  {
   "cell_type": "markdown",
   "metadata": {},
   "source": [
    "Async keywords:\n",
    "- `async def`: produces either a native coroutine or an asynchronous generator\n",
    "- `async with`\n",
    "- `async for`\n",
    "- `await`: passes function control back to the event loop\n",
    "\n",
    "\n",
    "\n",
    "\n",
    "# Resume Tutorial [Here](https://realpython.com/async-io-python/#the-asyncio-package-and-asyncawait)"
   ]
  }
 ],
 "metadata": {
  "kernelspec": {
   "display_name": "Python 3",
   "language": "python",
   "name": "python3"
  },
  "language_info": {
   "codemirror_mode": {
    "name": "ipython",
    "version": 3
   },
   "file_extension": ".py",
   "mimetype": "text/x-python",
   "name": "python",
   "nbconvert_exporter": "python",
   "pygments_lexer": "ipython3",
   "version": "3.7.3"
  }
 },
 "nbformat": 4,
 "nbformat_minor": 4
}
