{
 "cells": [
  {
   "cell_type": "markdown",
   "metadata": {},
   "source": [
    "# Async IO in Python - [Real Python](https://realpython.com/async-io-python/)\n",
    "\n",
    "## What's the Deal?\n",
    "\n",
    "- **Concurrency**: broadly, the ability for multiple tasks to run in an overlapping manner\n",
    "- **Parallelism**: a subset of concurrency characterized by performing *multiple operations at the same time*\n",
    "- **Multiprocessing**: a form of parallelism achieved by spreading tasks across a processor's cores; good for tasks that are *CPU-bound*\n",
    "- **Threading**: a form of concurrency in which multiple threads take turns executing their tasks; good for tasks that are *IO-bound*\n",
    "- **Asynchronous IO**: a form of concurrency that utilizes tasks (aka routines) that are able to pause and allow other tasks to process while awaiting the result of other tasks \n",
    "- **CPU-bound**: tasks that are reliant on the processor working hard from start to finish\n",
    "- **IO-bound**: tasks that are reliant on waiting for other input/output tasks to complete\n",
    "\n",
    "How does `asyncio` fit into this? It is not multiprocessing or threading, it is **cooperative multitasking**; a separate model of concurrency that utilizes a single thread and a single process.\n",
    "\n",
    "Further reading: [Speed Up Your Python Program with Concurrency - Real Python](https://realpython.com/python-concurrency/)"
   ]
  },
  {
   "cell_type": "markdown",
   "metadata": {},
   "source": [
    "# Resume Tutorial [Here](https://realpython.com/async-io-python/#the-asyncio-package-and-asyncawait)"
   ]
  }
 ],
 "metadata": {
  "kernelspec": {
   "display_name": "Python 3",
   "language": "python",
   "name": "python3"
  },
  "language_info": {
   "codemirror_mode": {
    "name": "ipython",
    "version": 3
   },
   "file_extension": ".py",
   "mimetype": "text/x-python",
   "name": "python",
   "nbconvert_exporter": "python",
   "pygments_lexer": "ipython3",
   "version": "3.7.3"
  }
 },
 "nbformat": 4,
 "nbformat_minor": 4
}
